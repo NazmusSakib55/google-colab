{
  "nbformat": 4,
  "nbformat_minor": 0,
  "metadata": {
    "colab": {
      "provenance": [],
      "authorship_tag": "ABX9TyMcsYQgtwRONkEnQH/jazu9",
      "include_colab_link": true
    },
    "kernelspec": {
      "name": "python3",
      "display_name": "Python 3"
    },
    "language_info": {
      "name": "python"
    }
  },
  "cells": [
    {
      "cell_type": "markdown",
      "metadata": {
        "id": "view-in-github",
        "colab_type": "text"
      },
      "source": [
        "<a href=\"https://colab.research.google.com/github/NazmusSakib55/google-colab/blob/main/Python_Assignment_03.ipynb\" target=\"_parent\"><img src=\"https://colab.research.google.com/assets/colab-badge.svg\" alt=\"Open In Colab\"/></a>"
      ]
    },
    {
      "cell_type": "markdown",
      "source": [
        "Use minus index & make the *t* in *Academic Affiliation* uppercase. (e.g.=Academic AffiliaTion)."
      ],
      "metadata": {
        "id": "MpY7kF0TRmxG"
      }
    },
    {
      "cell_type": "code",
      "source": [
        "i=\"Academic Affiliation\"\n",
        "print(i[:-4]+i[-4].upper()+i[-3:])"
      ],
      "metadata": {
        "colab": {
          "base_uri": "https://localhost:8080/"
        },
        "id": "xBPa2TLvR8s-",
        "outputId": "0f1027d2-dcac-4366-9cec-6b99caaff359"
      },
      "execution_count": 23,
      "outputs": [
        {
          "output_type": "stream",
          "name": "stdout",
          "text": [
            "Academic AffiliaTion\n"
          ]
        }
      ]
    }
  ]
}