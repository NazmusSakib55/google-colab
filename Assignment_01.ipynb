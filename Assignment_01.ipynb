{
  "nbformat": 4,
  "nbformat_minor": 0,
  "metadata": {
    "colab": {
      "provenance": [],
      "authorship_tag": "ABX9TyN8gXm3Rxg8IsIi9WlaJkfp",
      "include_colab_link": true
    },
    "kernelspec": {
      "name": "python3",
      "display_name": "Python 3"
    },
    "language_info": {
      "name": "python"
    }
  },
  "cells": [
    {
      "cell_type": "markdown",
      "metadata": {
        "id": "view-in-github",
        "colab_type": "text"
      },
      "source": [
        "<a href=\"https://colab.research.google.com/github/NazmusSakib55/google-colab/blob/main/Assignment_01.ipynb\" target=\"_parent\"><img src=\"https://colab.research.google.com/assets/colab-badge.svg\" alt=\"Open In Colab\"/></a>"
      ]
    },
    {
      "cell_type": "markdown",
      "source": [
        "Given different scored marks of students. We need to find a Grade Calculator in Python. The test score is an average of the respective marks scored in assignments, tests, and lab work. The final test score is assigned using the below formula.\n",
        "\n",
        "10% of marks scored from submission of Assignments\n",
        "70% of marks scored from Test\n",
        "20% of marks scored in Lab-Works\n",
        "The grade will be calculated according to the:\n",
        "\n",
        "1. score >= 90 : \"A\"\n",
        "2. score >= 80 : \"B\"\n",
        "3. score >= 70 : \"C\"\n",
        "4. score >= 60 : \"D\"\n",
        "\n",
        "Also, calculate the total class average and letter grade of the class."
      ],
      "metadata": {
        "id": "ZRg0QPawAH3F"
      }
    },
    {
      "cell_type": "code",
      "source": [
        "assignments_marks = int(input(\"Enter Your Assignment Marks: \"))\n",
        "test_Marks = int(input(\"Enter Your Test Marks: \"))\n",
        "lab_works_marks = int(input(\"Enter Your Lab-Works Marks: \"))\n",
        "score = assignments_marks*10/100 + test_Marks*70/100 + lab_works_marks*20/100\n",
        "print(\"Your score out of 100 is: \",round(score, 2))\n",
        "if score>=90:\n",
        "  print(\"Your Grade is A\")\n",
        "elif score>=80:\n",
        "  print(\"Your Grade is B\")\n",
        "elif score>=70:\n",
        "  print(\"Your Grade is C\")\n",
        "else:\n",
        "  print(\"Your Grade is D\")\n",
        "assignments_marks_out_of_30 = (27, 22, 30, 18, 25, 20, 29, 16, 24, 28)\n",
        "total1 = 0\n",
        "for num in assignments_marks_out_of_30:\n",
        "  total1 += num\n",
        "test_marks_out_of_100 = (87, 74, 91, 63, 79, 88, 55, 94, 68, 82)\n",
        "total2 = 0\n",
        "for num in test_marks_out_of_100:\n",
        "  total2 += num\n",
        "lab_works_marks_out_of_50 = (42, 37, 45, 28, 33, 49, 40, 25, 46, 39)\n",
        "total3 = 0\n",
        "for num in lab_works_marks_out_of_50:\n",
        "  total3 += num\n",
        "average = (total1/10)*10/100 + (total2/10)*70/100 + (total3/10)*20/100\n",
        "print(\"Total Class Average: \",round(average, 2))\n",
        "if average>=90:\n",
        "  print(\"Letter Grade of the class is A\")\n",
        "elif average>=80:\n",
        "  print(\"Letter Grade of the class is B\")\n",
        "elif average>=70:\n",
        "  print(\"Letter Grade of the class is C\")\n",
        "else:\n",
        "  print(\"Letter Grade of the class is D\")"
      ],
      "metadata": {
        "id": "NXqAHnaOAYGl",
        "colab": {
          "base_uri": "https://localhost:8080/"
        },
        "outputId": "e0015373-1ee4-4fde-cc02-4feb88983d81"
      },
      "execution_count": 11,
      "outputs": [
        {
          "output_type": "stream",
          "name": "stdout",
          "text": [
            "Enter Your Assignment Marks: 29\n",
            "Enter Your Test Marks: 91\n",
            "Enter Your Lab-Works Marks: 45\n",
            "Your score out of 100 is:  75.6\n",
            "Your Grade is C\n",
            "Total Class Average:  64.74\n",
            "Letter Grade of the class is D\n"
          ]
        }
      ]
    }
  ]
}