{
  "nbformat": 4,
  "nbformat_minor": 0,
  "metadata": {
    "colab": {
      "provenance": [],
      "authorship_tag": "ABX9TyNjVTVZA4Yv1aAQy+pGkDL7",
      "include_colab_link": true
    },
    "kernelspec": {
      "name": "python3",
      "display_name": "Python 3"
    },
    "language_info": {
      "name": "python"
    }
  },
  "cells": [
    {
      "cell_type": "markdown",
      "metadata": {
        "id": "view-in-github",
        "colab_type": "text"
      },
      "source": [
        "<a href=\"https://colab.research.google.com/github/NazmusSakib55/google-colab/blob/main/Python_Assignment_02.ipynb\" target=\"_parent\"><img src=\"https://colab.research.google.com/assets/colab-badge.svg\" alt=\"Open In Colab\"/></a>"
      ]
    },
    {
      "cell_type": "markdown",
      "source": [
        "Calculation of summation, subtraction, multiplication, division, percentage & average using function."
      ],
      "metadata": {
        "id": "OTGGmWhZFVqG"
      }
    },
    {
      "cell_type": "code",
      "source": [
        "def summation(a,b):\n",
        "  return a+b\n",
        "a= int(input(\"Enter first number: \"))\n",
        "b= int(input(\"Enter second number: \"))\n",
        "\n",
        "print(\"Addition of two numbers is \", summation(a,b))\n",
        "\n",
        "def subtraction(a,b):\n",
        "  return a-b\n",
        "a= int(input(\"Enter first number: \"))\n",
        "b= int(input(\"Enter second number: \"))\n",
        "\n",
        "print(\"Subtraction of 2nd number from 1st number is \",subtraction(a,b))\n",
        "\n",
        "def multiplication(a,b):\n",
        "  return a*b\n",
        "a= int(input(\"Enter first number: \"))\n",
        "b= int(input(\"Enter second number: \"))\n",
        "\n",
        "print(\"Multiplication of two numbers is \",multiplication(a,b))\n",
        "\n",
        "def division(a,b):\n",
        "  return a/b\n",
        "a= int(input(\"Enter first number: \"))\n",
        "b= int(input(\"Enter second number: \"))\n",
        "\n",
        "print(\"Division of two numbers is \",division(a,b))\n",
        "\n",
        "def average(a,b):\n",
        "  return (a+b)/2\n",
        "a= int(input(\"Enter first number: \"))\n",
        "b= int(input(\"Enter second number: \"))\n",
        "\n",
        "print(\"Average of two numbers is \",average(a,b))\n",
        "\n",
        "def percentage(a,b):\n",
        "  return (a*b)/100\n",
        "a= int(input(\"Enter first number: \"))\n",
        "b= int(input(\"Enter second number: \"))\n",
        "\n",
        "print(\"Percentage of 1st number of 2nd number is \",percentage(a,b))"
      ],
      "metadata": {
        "id": "JOTn-OrLFocn",
        "colab": {
          "base_uri": "https://localhost:8080/"
        },
        "outputId": "06405c99-7f10-4d3d-f567-c315668a2043"
      },
      "execution_count": 32,
      "outputs": [
        {
          "output_type": "stream",
          "name": "stdout",
          "text": [
            "Enter first number: 3\n",
            "Enter second number: 4\n",
            "Addition of two numbers is  7\n",
            "Enter first number: 5\n",
            "Enter second number: 3\n",
            "Subtraction of 2nd number from 1st number is  2\n",
            "Enter first number: 4\n",
            "Enter second number: 5\n",
            "Multiplication of two numbers is  20\n",
            "Enter first number: 4\n",
            "Enter second number: 2\n",
            "Division of two numbers is  2.0\n",
            "Enter first number: 5\n",
            "Enter second number: 7\n",
            "Average of two numbers is  6.0\n",
            "Enter first number: 6\n",
            "Enter second number: 10\n",
            "Percentage of 1st number of 2nd number is  0.6\n"
          ]
        }
      ]
    }
  ]
}